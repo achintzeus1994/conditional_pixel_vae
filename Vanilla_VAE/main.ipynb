{
 "cells": [
  {
   "cell_type": "code",
   "execution_count": 1,
   "metadata": {},
   "outputs": [
    {
     "name": "stdout",
     "output_type": "stream",
     "text": [
      "importing Jupyter notebook from dataloader_mnist.ipynb\n",
      "importing Jupyter notebook from networks_mnist.ipynb\n"
     ]
    }
   ],
   "source": [
    "import numpy as np\n",
    "import torch\n",
    "import torch.nn as nn\n",
    "import torch.optim as optim\n",
    "from torch.distributions import Normal, Laplace\n",
    "from tqdm import tqdm\n",
    "import matplotlib.pyplot as plt\n",
    "import torch.nn.functional as F\n",
    "import torch\n",
    "import scipy.io as sio\n",
    "import random\n",
    "import numpy as np\n",
    "import import_ipynb\n",
    "import dataloader_mnist\n",
    "import networks_mnist\n",
    "from model import PixelCNN\n",
    "from torchviz import make_dot\n",
    "from tqdm import tqdm"
   ]
  },
  {
   "cell_type": "code",
   "execution_count": 16,
   "metadata": {},
   "outputs": [],
   "source": [
    "class CategoricalImage(torch.distributions.Categorical):\n",
    "    def __init__(self, logits):\n",
    "        logits = logits.transpose(-1, -2)\n",
    "#         print(logits.shape)\n",
    "#         logits = logits.flatten(-3, -1).transpose(-1, -2)\n",
    "        super(CategoricalImage, self).__init__(logits=logits.to(dtype=torch.float64))\n",
    "    def log_prob(self, target):\n",
    "#         print(target.shape)\n",
    "#         target = target.flatten(-3, -1)\n",
    "        shape, dtype = target.shape, target.dtype\n",
    "        if target.max() <= 1:\n",
    "            target = (target * 255).to(torch.long)\n",
    "        print(target.shape, self.probs.shape)\n",
    "        ret = super(CategoricalImage, self).log_prob(target)\n",
    "        return ret.view(shape[0], -1, *shape[2:]).to(dtype=dtype)"
   ]
  },
  {
   "cell_type": "code",
   "execution_count": 3,
   "metadata": {},
   "outputs": [],
   "source": [
    "batch_size = 128\n",
    "device = 'cuda' if torch.cuda.is_available() else 'cpu'\n",
    "# device = 'cpu'\n",
    "lat_dim = 32"
   ]
  },
  {
   "cell_type": "code",
   "execution_count": 4,
   "metadata": {},
   "outputs": [],
   "source": [
    "MNIST_PATH = \"/home/achint/old_files/VAE/MNIST/MNIST/processed/%s.pt\"\n",
    "dataset_train = dataloader_mnist.MNIST(mnist_pt_path = MNIST_PATH % 'training')\n",
    "dataset_test  = dataloader_mnist.MNIST(mnist_pt_path = MNIST_PATH % 'test')\n",
    "train_loader = torch.utils.data.DataLoader(dataset_train, batch_size=batch_size, shuffle=True, drop_last=True)\n",
    "test_loader = torch.utils.data.DataLoader(dataset_test, batch_size=batch_size, shuffle=True, drop_last=True)"
   ]
  },
  {
   "cell_type": "code",
   "execution_count": 5,
   "metadata": {},
   "outputs": [],
   "source": [
    "enc_mnist = networks_mnist.EncMNIST(lat_dim).to(device)\n",
    "dec_mnist = networks_mnist.pixelcnn_decoder(PixelCNN(lat_dim+10, 1)).to(device)\n",
    "\n",
    "# dec_mnist = networks_mnist.pixelcnn_decoder(PixelCNN(1,lat_dim,3,6,1)).to(device)\n",
    "\n",
    "# dec_mnist = networks_mnist.DecMNIST(lat_dim).to(device)"
   ]
  },
  {
   "cell_type": "code",
   "execution_count": null,
   "metadata": {},
   "outputs": [],
   "source": [
    "class decoder:\n",
    "    #__init__\n",
    "    #...\n",
    "    def forward(self, z, x, ...):\n",
    "        #....calc\n",
    "        return x_rec, rec_loss # == - log_like"
   ]
  },
  {
   "cell_type": "code",
   "execution_count": 18,
   "metadata": {},
   "outputs": [],
   "source": [
    "class Vanilla_VAE(nn.Module):\n",
    "    def __init__(self, encoder, decoder, batch_size=batch_size):\n",
    "        super(Vanilla_VAE,self).__init__()\n",
    "        self.batch_size = batch_size\n",
    "        self.encoder = encoder\n",
    "        self.decoder = decoder\n",
    "        \n",
    "    def encode(self, x):\n",
    "        param1, param2 = self.encoder(x)\n",
    "        return param1, param2\n",
    "    \n",
    "    def sampling(self, mu, std):\n",
    "        \n",
    "        eps = torch.randn_like(std)\n",
    "        return eps * std + mu\n",
    "    \n",
    "    def decode(self, z,x, label, generate_mode):\n",
    "        z_cond = torch.cat((z,label),1 )\n",
    "        x_rec = self.decoder(z_cond, x, generate_mode)\n",
    "        return x_rec\n",
    "\n",
    "    \n",
    "    def loss_function(self,x_rec, x, mu, log_var):\n",
    "        x_rec = x_rec.flatten(-3,-1)\n",
    "#         x_rec = x_rec\n",
    "\n",
    "#         mse_loss = nn.MSELoss(reduction='sum')\n",
    "\n",
    "#         x = torch.heaviside(x-0.5,torch.tensor([0.0]).to(device))\n",
    "        # interval is 255/color_level\n",
    "        color_level = 256\n",
    "        x = (x * (color_level - 1)).floor().long()\n",
    "        ce_loss = nn.CrossEntropyLoss(reduction='sum')\n",
    "#         ce_loss = -CategoricalImage(x_rec).log_prob(x).sum()\n",
    "        MSE = ce_loss(x_rec,x.long())\n",
    "\n",
    "        KLD = -0.5 * torch.sum(1 + log_var - mu.pow(2) - log_var.exp())\n",
    "        total_loss = MSE+KLD\n",
    "        return total_loss, MSE,KLD\n",
    "    \n",
    "    def forward(self, x, generate_mode = False):\n",
    "        img = x[:,0:784]\n",
    "        label = x[:,784:794]\n",
    "        mu, log_var = self.encode(img)\n",
    "        std = torch.exp(0.5 * log_var)\n",
    "        if generate_mode:\n",
    "            z = self.sampling(torch.zeros_like(mu), torch.ones_like(std))\n",
    "#             a = self.decoder.pixelcnn(img, z)\n",
    "#             label = F.one_hot(torch.tensor(5),num_classes=10).to(device)\n",
    "#             label = label.repeat(self.batch_size, 1)\n",
    "            x_rec = self.decode(z,torch.zeros_like(img),label, generate_mode)[0]\n",
    "            x_rec = torch.exp(x_rec)\n",
    "            total_loss,rec_loss,kl_loss = 0, 0, 0\n",
    "        else:\n",
    "            z = self.sampling(mu, std)\n",
    "            x_rec = self.decode(z,img,label, generate_mode)[0]\n",
    "            x_rec = torch.exp(x_rec)\n",
    "            total_loss, rec_loss,kl_loss = self.loss_function(x_rec, img, mu, log_var)\n",
    "            \n",
    "        results = {'data':x,'x_rec': x_rec,\n",
    "            'total_loss': total_loss, 'rec_losses': rec_loss, 'KL_loss': kl_loss}\n",
    "        return results\n"
   ]
  },
  {
   "cell_type": "code",
   "execution_count": 20,
   "metadata": {},
   "outputs": [],
   "source": [
    "vae = Vanilla_VAE(enc_mnist,dec_mnist, batch_size=batch_size).to(device)\n",
    "optimizer = optim.Adam(vae.parameters(), lr=1e-3)"
   ]
  },
  {
   "cell_type": "code",
   "execution_count": 21,
   "metadata": {},
   "outputs": [],
   "source": [
    "def train(model,train_loader,epoch):\n",
    "    model.train()\n",
    "    for k, data in (enumerate(train_loader)):\n",
    "        optimizer.zero_grad()\n",
    "        results = model(data[0].to(device))\n",
    "        torch.autograd.set_detect_anomaly(True)\n",
    "        results['total_loss'].backward() \n",
    "        optimizer.step()    \n",
    "    return results"
   ]
  },
  {
   "cell_type": "code",
   "execution_count": 22,
   "metadata": {},
   "outputs": [
    {
     "name": "stderr",
     "output_type": "stream",
     "text": [
      "  0%|                                                     | 0/1 [00:00<?, ?it/s]"
     ]
    },
    {
     "name": "stdout",
     "output_type": "stream",
     "text": [
      "torch.Size([128, 784]) torch.Size([128, 784, 256])\n",
      "torch.Size([128, 784]) torch.Size([128, 784, 256])\n",
      "torch.Size([128, 784]) torch.Size([128, 784, 256])\n",
      "torch.Size([128, 784]) torch.Size([128, 784, 256])\n",
      "torch.Size([128, 784]) torch.Size([128, 784, 256])\n",
      "torch.Size([128, 784]) torch.Size([128, 784, 256])\n",
      "torch.Size([128, 784]) torch.Size([128, 784, 256])\n",
      "torch.Size([128, 784]) torch.Size([128, 784, 256])\n",
      "torch.Size([128, 784]) torch.Size([128, 784, 256])\n",
      "torch.Size([128, 784]) torch.Size([128, 784, 256])\n",
      "torch.Size([128, 784]) torch.Size([128, 784, 256])\n",
      "torch.Size([128, 784]) torch.Size([128, 784, 256])\n",
      "torch.Size([128, 784]) torch.Size([128, 784, 256])\n",
      "torch.Size([128, 784]) torch.Size([128, 784, 256])\n",
      "torch.Size([128, 784]) torch.Size([128, 784, 256])\n",
      "torch.Size([128, 784]) torch.Size([128, 784, 256])\n",
      "torch.Size([128, 784]) torch.Size([128, 784, 256])\n",
      "torch.Size([128, 784]) torch.Size([128, 784, 256])\n",
      "torch.Size([128, 784]) torch.Size([128, 784, 256])\n",
      "torch.Size([128, 784]) torch.Size([128, 784, 256])\n",
      "torch.Size([128, 784]) torch.Size([128, 784, 256])\n",
      "torch.Size([128, 784]) torch.Size([128, 784, 256])\n",
      "torch.Size([128, 784]) torch.Size([128, 784, 256])\n",
      "torch.Size([128, 784]) torch.Size([128, 784, 256])\n",
      "torch.Size([128, 784]) torch.Size([128, 784, 256])\n",
      "torch.Size([128, 784]) torch.Size([128, 784, 256])\n",
      "torch.Size([128, 784]) torch.Size([128, 784, 256])\n",
      "torch.Size([128, 784]) torch.Size([128, 784, 256])\n",
      "torch.Size([128, 784]) torch.Size([128, 784, 256])\n",
      "torch.Size([128, 784]) torch.Size([128, 784, 256])\n",
      "torch.Size([128, 784]) torch.Size([128, 784, 256])\n",
      "torch.Size([128, 784]) torch.Size([128, 784, 256])\n",
      "torch.Size([128, 784]) torch.Size([128, 784, 256])\n",
      "torch.Size([128, 784]) torch.Size([128, 784, 256])\n",
      "torch.Size([128, 784]) torch.Size([128, 784, 256])\n",
      "torch.Size([128, 784]) torch.Size([128, 784, 256])\n",
      "torch.Size([128, 784]) torch.Size([128, 784, 256])\n",
      "torch.Size([128, 784]) torch.Size([128, 784, 256])\n",
      "torch.Size([128, 784]) torch.Size([128, 784, 256])\n",
      "torch.Size([128, 784]) torch.Size([128, 784, 256])\n",
      "torch.Size([128, 784]) torch.Size([128, 784, 256])\n",
      "torch.Size([128, 784]) torch.Size([128, 784, 256])\n",
      "torch.Size([128, 784]) torch.Size([128, 784, 256])\n",
      "torch.Size([128, 784]) torch.Size([128, 784, 256])\n",
      "torch.Size([128, 784]) torch.Size([128, 784, 256])\n",
      "torch.Size([128, 784]) torch.Size([128, 784, 256])\n",
      "torch.Size([128, 784]) torch.Size([128, 784, 256])\n",
      "torch.Size([128, 784]) torch.Size([128, 784, 256])\n",
      "torch.Size([128, 784]) torch.Size([128, 784, 256])\n",
      "torch.Size([128, 784]) torch.Size([128, 784, 256])\n",
      "torch.Size([128, 784]) torch.Size([128, 784, 256])\n",
      "torch.Size([128, 784]) torch.Size([128, 784, 256])\n",
      "torch.Size([128, 784]) torch.Size([128, 784, 256])\n",
      "torch.Size([128, 784]) torch.Size([128, 784, 256])\n",
      "torch.Size([128, 784]) torch.Size([128, 784, 256])\n",
      "torch.Size([128, 784]) torch.Size([128, 784, 256])\n",
      "torch.Size([128, 784]) torch.Size([128, 784, 256])\n",
      "torch.Size([128, 784]) torch.Size([128, 784, 256])\n",
      "torch.Size([128, 784]) torch.Size([128, 784, 256])\n",
      "torch.Size([128, 784]) torch.Size([128, 784, 256])\n",
      "torch.Size([128, 784]) torch.Size([128, 784, 256])\n",
      "torch.Size([128, 784]) torch.Size([128, 784, 256])\n",
      "torch.Size([128, 784]) torch.Size([128, 784, 256])\n",
      "torch.Size([128, 784]) torch.Size([128, 784, 256])\n",
      "torch.Size([128, 784]) torch.Size([128, 784, 256])\n",
      "torch.Size([128, 784]) torch.Size([128, 784, 256])\n",
      "torch.Size([128, 784]) torch.Size([128, 784, 256])\n",
      "torch.Size([128, 784]) torch.Size([128, 784, 256])\n",
      "torch.Size([128, 784]) torch.Size([128, 784, 256])\n",
      "torch.Size([128, 784]) torch.Size([128, 784, 256])\n",
      "torch.Size([128, 784]) torch.Size([128, 784, 256])\n",
      "torch.Size([128, 784]) torch.Size([128, 784, 256])\n",
      "torch.Size([128, 784]) torch.Size([128, 784, 256])\n",
      "torch.Size([128, 784]) torch.Size([128, 784, 256])\n",
      "torch.Size([128, 784]) torch.Size([128, 784, 256])\n",
      "torch.Size([128, 784]) torch.Size([128, 784, 256])\n",
      "torch.Size([128, 784]) torch.Size([128, 784, 256])\n",
      "torch.Size([128, 784]) torch.Size([128, 784, 256])\n",
      "torch.Size([128, 784]) torch.Size([128, 784, 256])\n",
      "torch.Size([128, 784]) torch.Size([128, 784, 256])\n",
      "torch.Size([128, 784]) torch.Size([128, 784, 256])\n",
      "torch.Size([128, 784]) torch.Size([128, 784, 256])\n",
      "torch.Size([128, 784]) torch.Size([128, 784, 256])\n",
      "torch.Size([128, 784]) torch.Size([128, 784, 256])\n",
      "torch.Size([128, 784]) torch.Size([128, 784, 256])\n",
      "torch.Size([128, 784]) torch.Size([128, 784, 256])\n",
      "torch.Size([128, 784]) torch.Size([128, 784, 256])\n",
      "torch.Size([128, 784]) torch.Size([128, 784, 256])\n",
      "torch.Size([128, 784]) torch.Size([128, 784, 256])\n",
      "torch.Size([128, 784]) torch.Size([128, 784, 256])\n",
      "torch.Size([128, 784]) torch.Size([128, 784, 256])\n",
      "torch.Size([128, 784]) torch.Size([128, 784, 256])\n",
      "torch.Size([128, 784]) torch.Size([128, 784, 256])\n",
      "torch.Size([128, 784]) torch.Size([128, 784, 256])\n",
      "torch.Size([128, 784]) torch.Size([128, 784, 256])\n",
      "torch.Size([128, 784]) torch.Size([128, 784, 256])\n",
      "torch.Size([128, 784]) torch.Size([128, 784, 256])\n",
      "torch.Size([128, 784]) torch.Size([128, 784, 256])\n",
      "torch.Size([128, 784]) torch.Size([128, 784, 256])\n",
      "torch.Size([128, 784]) torch.Size([128, 784, 256])\n",
      "torch.Size([128, 784]) torch.Size([128, 784, 256])\n",
      "torch.Size([128, 784]) torch.Size([128, 784, 256])\n",
      "torch.Size([128, 784]) torch.Size([128, 784, 256])\n",
      "torch.Size([128, 784]) torch.Size([128, 784, 256])\n",
      "torch.Size([128, 784]) torch.Size([128, 784, 256])\n",
      "torch.Size([128, 784]) torch.Size([128, 784, 256])\n",
      "torch.Size([128, 784]) torch.Size([128, 784, 256])\n",
      "torch.Size([128, 784]) torch.Size([128, 784, 256])\n",
      "torch.Size([128, 784]) torch.Size([128, 784, 256])\n",
      "torch.Size([128, 784]) torch.Size([128, 784, 256])\n",
      "torch.Size([128, 784]) torch.Size([128, 784, 256])\n",
      "torch.Size([128, 784]) torch.Size([128, 784, 256])\n",
      "torch.Size([128, 784]) torch.Size([128, 784, 256])\n",
      "torch.Size([128, 784]) torch.Size([128, 784, 256])\n",
      "torch.Size([128, 784]) torch.Size([128, 784, 256])\n",
      "torch.Size([128, 784]) torch.Size([128, 784, 256])\n",
      "torch.Size([128, 784]) torch.Size([128, 784, 256])\n",
      "torch.Size([128, 784]) torch.Size([128, 784, 256])\n",
      "torch.Size([128, 784]) torch.Size([128, 784, 256])\n",
      "torch.Size([128, 784]) torch.Size([128, 784, 256])\n",
      "torch.Size([128, 784]) torch.Size([128, 784, 256])\n",
      "torch.Size([128, 784]) torch.Size([128, 784, 256])\n",
      "torch.Size([128, 784]) torch.Size([128, 784, 256])\n",
      "torch.Size([128, 784]) torch.Size([128, 784, 256])\n",
      "torch.Size([128, 784]) torch.Size([128, 784, 256])\n",
      "torch.Size([128, 784]) torch.Size([128, 784, 256])\n",
      "torch.Size([128, 784]) torch.Size([128, 784, 256])\n",
      "torch.Size([128, 784]) torch.Size([128, 784, 256])\n",
      "torch.Size([128, 784]) torch.Size([128, 784, 256])\n",
      "torch.Size([128, 784]) torch.Size([128, 784, 256])\n",
      "torch.Size([128, 784]) torch.Size([128, 784, 256])\n",
      "torch.Size([128, 784]) torch.Size([128, 784, 256])\n",
      "torch.Size([128, 784]) torch.Size([128, 784, 256])\n",
      "torch.Size([128, 784]) torch.Size([128, 784, 256])\n",
      "torch.Size([128, 784]) torch.Size([128, 784, 256])\n",
      "torch.Size([128, 784]) torch.Size([128, 784, 256])\n",
      "torch.Size([128, 784]) torch.Size([128, 784, 256])\n",
      "torch.Size([128, 784]) torch.Size([128, 784, 256])\n",
      "torch.Size([128, 784]) torch.Size([128, 784, 256])\n",
      "torch.Size([128, 784]) torch.Size([128, 784, 256])\n",
      "torch.Size([128, 784]) torch.Size([128, 784, 256])\n",
      "torch.Size([128, 784]) torch.Size([128, 784, 256])\n",
      "torch.Size([128, 784]) torch.Size([128, 784, 256])\n",
      "torch.Size([128, 784]) torch.Size([128, 784, 256])\n",
      "torch.Size([128, 784]) torch.Size([128, 784, 256])\n",
      "torch.Size([128, 784]) torch.Size([128, 784, 256])\n",
      "torch.Size([128, 784]) torch.Size([128, 784, 256])\n",
      "torch.Size([128, 784]) torch.Size([128, 784, 256])\n",
      "torch.Size([128, 784]) torch.Size([128, 784, 256])\n",
      "torch.Size([128, 784]) torch.Size([128, 784, 256])\n",
      "torch.Size([128, 784]) torch.Size([128, 784, 256])\n",
      "torch.Size([128, 784]) torch.Size([128, 784, 256])\n",
      "torch.Size([128, 784]) torch.Size([128, 784, 256])\n",
      "torch.Size([128, 784]) torch.Size([128, 784, 256])\n",
      "torch.Size([128, 784]) torch.Size([128, 784, 256])\n",
      "torch.Size([128, 784]) torch.Size([128, 784, 256])\n",
      "torch.Size([128, 784]) torch.Size([128, 784, 256])\n",
      "torch.Size([128, 784]) torch.Size([128, 784, 256])\n",
      "torch.Size([128, 784]) torch.Size([128, 784, 256])\n",
      "torch.Size([128, 784]) torch.Size([128, 784, 256])\n",
      "torch.Size([128, 784]) torch.Size([128, 784, 256])\n",
      "torch.Size([128, 784]) torch.Size([128, 784, 256])\n",
      "torch.Size([128, 784]) torch.Size([128, 784, 256])\n",
      "torch.Size([128, 784]) torch.Size([128, 784, 256])\n",
      "torch.Size([128, 784]) torch.Size([128, 784, 256])\n",
      "torch.Size([128, 784]) torch.Size([128, 784, 256])\n",
      "torch.Size([128, 784]) torch.Size([128, 784, 256])\n",
      "torch.Size([128, 784]) torch.Size([128, 784, 256])\n",
      "torch.Size([128, 784]) torch.Size([128, 784, 256])\n",
      "torch.Size([128, 784]) torch.Size([128, 784, 256])\n",
      "torch.Size([128, 784]) torch.Size([128, 784, 256])\n",
      "torch.Size([128, 784]) torch.Size([128, 784, 256])\n",
      "torch.Size([128, 784]) torch.Size([128, 784, 256])\n",
      "torch.Size([128, 784]) torch.Size([128, 784, 256])\n",
      "torch.Size([128, 784]) torch.Size([128, 784, 256])\n",
      "torch.Size([128, 784]) torch.Size([128, 784, 256])\n",
      "torch.Size([128, 784]) torch.Size([128, 784, 256])\n",
      "torch.Size([128, 784]) torch.Size([128, 784, 256])\n",
      "torch.Size([128, 784]) torch.Size([128, 784, 256])\n",
      "torch.Size([128, 784]) torch.Size([128, 784, 256])\n",
      "torch.Size([128, 784]) torch.Size([128, 784, 256])\n",
      "torch.Size([128, 784]) torch.Size([128, 784, 256])\n",
      "torch.Size([128, 784]) torch.Size([128, 784, 256])\n",
      "torch.Size([128, 784]) torch.Size([128, 784, 256])\n",
      "torch.Size([128, 784]) torch.Size([128, 784, 256])\n",
      "torch.Size([128, 784]) torch.Size([128, 784, 256])\n",
      "torch.Size([128, 784]) torch.Size([128, 784, 256])\n",
      "torch.Size([128, 784]) torch.Size([128, 784, 256])\n",
      "torch.Size([128, 784]) torch.Size([128, 784, 256])\n",
      "torch.Size([128, 784]) torch.Size([128, 784, 256])\n",
      "torch.Size([128, 784]) torch.Size([128, 784, 256])\n",
      "torch.Size([128, 784]) torch.Size([128, 784, 256])\n",
      "torch.Size([128, 784]) torch.Size([128, 784, 256])\n",
      "torch.Size([128, 784]) torch.Size([128, 784, 256])\n",
      "torch.Size([128, 784]) torch.Size([128, 784, 256])\n",
      "torch.Size([128, 784]) torch.Size([128, 784, 256])\n",
      "torch.Size([128, 784]) torch.Size([128, 784, 256])\n",
      "torch.Size([128, 784]) torch.Size([128, 784, 256])\n",
      "torch.Size([128, 784]) torch.Size([128, 784, 256])\n",
      "torch.Size([128, 784]) torch.Size([128, 784, 256])\n",
      "torch.Size([128, 784]) torch.Size([128, 784, 256])\n",
      "torch.Size([128, 784]) torch.Size([128, 784, 256])\n",
      "torch.Size([128, 784]) torch.Size([128, 784, 256])\n",
      "torch.Size([128, 784]) torch.Size([128, 784, 256])\n",
      "torch.Size([128, 784]) torch.Size([128, 784, 256])\n",
      "torch.Size([128, 784]) torch.Size([128, 784, 256])\n",
      "torch.Size([128, 784]) torch.Size([128, 784, 256])\n",
      "torch.Size([128, 784]) torch.Size([128, 784, 256])\n",
      "torch.Size([128, 784]) torch.Size([128, 784, 256])\n",
      "torch.Size([128, 784]) torch.Size([128, 784, 256])\n",
      "torch.Size([128, 784]) torch.Size([128, 784, 256])\n",
      "torch.Size([128, 784]) torch.Size([128, 784, 256])\n",
      "torch.Size([128, 784]) torch.Size([128, 784, 256])\n",
      "torch.Size([128, 784]) torch.Size([128, 784, 256])\n",
      "torch.Size([128, 784]) torch.Size([128, 784, 256])\n",
      "torch.Size([128, 784]) torch.Size([128, 784, 256])\n",
      "torch.Size([128, 784]) torch.Size([128, 784, 256])\n",
      "torch.Size([128, 784]) torch.Size([128, 784, 256])\n",
      "torch.Size([128, 784]) torch.Size([128, 784, 256])\n",
      "torch.Size([128, 784]) torch.Size([128, 784, 256])\n",
      "torch.Size([128, 784]) torch.Size([128, 784, 256])\n",
      "torch.Size([128, 784]) torch.Size([128, 784, 256])\n",
      "torch.Size([128, 784]) torch.Size([128, 784, 256])\n",
      "torch.Size([128, 784]) torch.Size([128, 784, 256])\n",
      "torch.Size([128, 784]) torch.Size([128, 784, 256])\n",
      "torch.Size([128, 784]) torch.Size([128, 784, 256])\n",
      "torch.Size([128, 784]) torch.Size([128, 784, 256])\n",
      "torch.Size([128, 784]) torch.Size([128, 784, 256])\n",
      "torch.Size([128, 784]) torch.Size([128, 784, 256])\n",
      "torch.Size([128, 784]) torch.Size([128, 784, 256])\n",
      "torch.Size([128, 784]) torch.Size([128, 784, 256])\n",
      "torch.Size([128, 784]) torch.Size([128, 784, 256])\n",
      "torch.Size([128, 784]) torch.Size([128, 784, 256])\n",
      "torch.Size([128, 784]) torch.Size([128, 784, 256])\n",
      "torch.Size([128, 784]) torch.Size([128, 784, 256])\n",
      "torch.Size([128, 784]) torch.Size([128, 784, 256])\n",
      "torch.Size([128, 784]) torch.Size([128, 784, 256])\n",
      "torch.Size([128, 784]) torch.Size([128, 784, 256])\n",
      "torch.Size([128, 784]) torch.Size([128, 784, 256])\n",
      "torch.Size([128, 784]) torch.Size([128, 784, 256])\n",
      "torch.Size([128, 784]) torch.Size([128, 784, 256])\n",
      "torch.Size([128, 784]) torch.Size([128, 784, 256])\n",
      "torch.Size([128, 784]) torch.Size([128, 784, 256])\n",
      "torch.Size([128, 784]) torch.Size([128, 784, 256])\n",
      "torch.Size([128, 784]) torch.Size([128, 784, 256])\n",
      "torch.Size([128, 784]) torch.Size([128, 784, 256])\n",
      "torch.Size([128, 784]) torch.Size([128, 784, 256])\n",
      "torch.Size([128, 784]) torch.Size([128, 784, 256])\n",
      "torch.Size([128, 784]) torch.Size([128, 784, 256])\n",
      "torch.Size([128, 784]) torch.Size([128, 784, 256])\n",
      "torch.Size([128, 784]) torch.Size([128, 784, 256])\n",
      "torch.Size([128, 784]) torch.Size([128, 784, 256])\n",
      "torch.Size([128, 784]) torch.Size([128, 784, 256])\n",
      "torch.Size([128, 784]) torch.Size([128, 784, 256])\n",
      "torch.Size([128, 784]) torch.Size([128, 784, 256])\n",
      "torch.Size([128, 784]) torch.Size([128, 784, 256])\n",
      "torch.Size([128, 784]) torch.Size([128, 784, 256])\n",
      "torch.Size([128, 784]) torch.Size([128, 784, 256])\n",
      "torch.Size([128, 784]) torch.Size([128, 784, 256])\n",
      "torch.Size([128, 784]) torch.Size([128, 784, 256])\n",
      "torch.Size([128, 784]) torch.Size([128, 784, 256])\n",
      "torch.Size([128, 784]) torch.Size([128, 784, 256])\n",
      "torch.Size([128, 784]) torch.Size([128, 784, 256])\n",
      "torch.Size([128, 784]) torch.Size([128, 784, 256])\n",
      "torch.Size([128, 784]) torch.Size([128, 784, 256])\n",
      "torch.Size([128, 784]) torch.Size([128, 784, 256])\n",
      "torch.Size([128, 784]) torch.Size([128, 784, 256])\n",
      "torch.Size([128, 784]) torch.Size([128, 784, 256])\n",
      "torch.Size([128, 784]) torch.Size([128, 784, 256])\n",
      "torch.Size([128, 784]) torch.Size([128, 784, 256])\n",
      "torch.Size([128, 784]) torch.Size([128, 784, 256])\n",
      "torch.Size([128, 784]) torch.Size([128, 784, 256])\n",
      "torch.Size([128, 784]) torch.Size([128, 784, 256])\n",
      "torch.Size([128, 784]) torch.Size([128, 784, 256])\n",
      "torch.Size([128, 784]) torch.Size([128, 784, 256])\n",
      "torch.Size([128, 784]) torch.Size([128, 784, 256])\n",
      "torch.Size([128, 784]) torch.Size([128, 784, 256])\n",
      "torch.Size([128, 784]) torch.Size([128, 784, 256])\n",
      "torch.Size([128, 784]) torch.Size([128, 784, 256])\n",
      "torch.Size([128, 784]) torch.Size([128, 784, 256])\n",
      "torch.Size([128, 784]) torch.Size([128, 784, 256])\n",
      "torch.Size([128, 784]) torch.Size([128, 784, 256])\n",
      "torch.Size([128, 784]) torch.Size([128, 784, 256])\n",
      "torch.Size([128, 784]) torch.Size([128, 784, 256])\n",
      "torch.Size([128, 784]) torch.Size([128, 784, 256])\n",
      "torch.Size([128, 784]) torch.Size([128, 784, 256])\n",
      "torch.Size([128, 784]) torch.Size([128, 784, 256])\n",
      "torch.Size([128, 784]) torch.Size([128, 784, 256])\n",
      "torch.Size([128, 784]) torch.Size([128, 784, 256])\n",
      "torch.Size([128, 784]) torch.Size([128, 784, 256])\n",
      "torch.Size([128, 784]) torch.Size([128, 784, 256])\n",
      "torch.Size([128, 784]) torch.Size([128, 784, 256])\n",
      "torch.Size([128, 784]) torch.Size([128, 784, 256])\n",
      "torch.Size([128, 784]) torch.Size([128, 784, 256])\n",
      "torch.Size([128, 784]) torch.Size([128, 784, 256])\n",
      "torch.Size([128, 784]) torch.Size([128, 784, 256])\n",
      "torch.Size([128, 784]) torch.Size([128, 784, 256])\n",
      "torch.Size([128, 784]) torch.Size([128, 784, 256])\n",
      "torch.Size([128, 784]) torch.Size([128, 784, 256])\n",
      "torch.Size([128, 784]) torch.Size([128, 784, 256])\n",
      "torch.Size([128, 784]) torch.Size([128, 784, 256])\n",
      "torch.Size([128, 784]) torch.Size([128, 784, 256])\n",
      "torch.Size([128, 784]) torch.Size([128, 784, 256])\n",
      "torch.Size([128, 784]) torch.Size([128, 784, 256])\n",
      "torch.Size([128, 784]) torch.Size([128, 784, 256])\n",
      "torch.Size([128, 784]) torch.Size([128, 784, 256])\n",
      "torch.Size([128, 784]) torch.Size([128, 784, 256])\n",
      "torch.Size([128, 784]) torch.Size([128, 784, 256])\n",
      "torch.Size([128, 784]) torch.Size([128, 784, 256])\n",
      "torch.Size([128, 784]) torch.Size([128, 784, 256])\n",
      "torch.Size([128, 784]) torch.Size([128, 784, 256])\n",
      "torch.Size([128, 784]) torch.Size([128, 784, 256])\n",
      "torch.Size([128, 784]) torch.Size([128, 784, 256])\n",
      "torch.Size([128, 784]) torch.Size([128, 784, 256])\n",
      "torch.Size([128, 784]) torch.Size([128, 784, 256])\n",
      "torch.Size([128, 784]) torch.Size([128, 784, 256])\n",
      "torch.Size([128, 784]) torch.Size([128, 784, 256])\n",
      "torch.Size([128, 784]) torch.Size([128, 784, 256])\n",
      "torch.Size([128, 784]) torch.Size([128, 784, 256])\n",
      "torch.Size([128, 784]) torch.Size([128, 784, 256])\n",
      "torch.Size([128, 784]) torch.Size([128, 784, 256])\n",
      "torch.Size([128, 784]) torch.Size([128, 784, 256])\n",
      "torch.Size([128, 784]) torch.Size([128, 784, 256])\n",
      "torch.Size([128, 784]) torch.Size([128, 784, 256])\n",
      "torch.Size([128, 784]) torch.Size([128, 784, 256])\n",
      "torch.Size([128, 784]) torch.Size([128, 784, 256])\n",
      "torch.Size([128, 784]) torch.Size([128, 784, 256])\n",
      "torch.Size([128, 784]) torch.Size([128, 784, 256])\n",
      "torch.Size([128, 784]) torch.Size([128, 784, 256])\n",
      "torch.Size([128, 784]) torch.Size([128, 784, 256])\n",
      "torch.Size([128, 784]) torch.Size([128, 784, 256])\n",
      "torch.Size([128, 784]) torch.Size([128, 784, 256])\n",
      "torch.Size([128, 784]) torch.Size([128, 784, 256])\n",
      "torch.Size([128, 784]) torch.Size([128, 784, 256])\n",
      "torch.Size([128, 784]) torch.Size([128, 784, 256])\n",
      "torch.Size([128, 784]) torch.Size([128, 784, 256])\n",
      "torch.Size([128, 784]) torch.Size([128, 784, 256])\n",
      "torch.Size([128, 784]) torch.Size([128, 784, 256])\n",
      "torch.Size([128, 784]) torch.Size([128, 784, 256])\n",
      "torch.Size([128, 784]) torch.Size([128, 784, 256])\n",
      "torch.Size([128, 784]) torch.Size([128, 784, 256])\n",
      "torch.Size([128, 784]) torch.Size([128, 784, 256])\n",
      "torch.Size([128, 784]) torch.Size([128, 784, 256])\n",
      "torch.Size([128, 784]) torch.Size([128, 784, 256])\n",
      "torch.Size([128, 784]) torch.Size([128, 784, 256])\n",
      "torch.Size([128, 784]) torch.Size([128, 784, 256])\n",
      "torch.Size([128, 784]) torch.Size([128, 784, 256])\n",
      "torch.Size([128, 784]) torch.Size([128, 784, 256])\n",
      "torch.Size([128, 784]) torch.Size([128, 784, 256])\n",
      "torch.Size([128, 784]) torch.Size([128, 784, 256])\n",
      "torch.Size([128, 784]) torch.Size([128, 784, 256])\n",
      "torch.Size([128, 784]) torch.Size([128, 784, 256])\n",
      "torch.Size([128, 784]) torch.Size([128, 784, 256])\n",
      "torch.Size([128, 784]) torch.Size([128, 784, 256])\n",
      "torch.Size([128, 784]) torch.Size([128, 784, 256])\n",
      "torch.Size([128, 784]) torch.Size([128, 784, 256])\n",
      "torch.Size([128, 784]) torch.Size([128, 784, 256])\n",
      "torch.Size([128, 784]) torch.Size([128, 784, 256])\n",
      "torch.Size([128, 784]) torch.Size([128, 784, 256])\n",
      "torch.Size([128, 784]) torch.Size([128, 784, 256])\n",
      "torch.Size([128, 784]) torch.Size([128, 784, 256])\n",
      "torch.Size([128, 784]) torch.Size([128, 784, 256])\n",
      "torch.Size([128, 784]) torch.Size([128, 784, 256])\n",
      "torch.Size([128, 784]) torch.Size([128, 784, 256])\n",
      "torch.Size([128, 784]) torch.Size([128, 784, 256])\n",
      "torch.Size([128, 784]) torch.Size([128, 784, 256])\n",
      "torch.Size([128, 784]) torch.Size([128, 784, 256])\n",
      "torch.Size([128, 784]) torch.Size([128, 784, 256])\n",
      "torch.Size([128, 784]) torch.Size([128, 784, 256])\n",
      "torch.Size([128, 784]) torch.Size([128, 784, 256])\n",
      "torch.Size([128, 784]) torch.Size([128, 784, 256])\n",
      "torch.Size([128, 784]) torch.Size([128, 784, 256])\n",
      "torch.Size([128, 784]) torch.Size([128, 784, 256])\n",
      "torch.Size([128, 784]) torch.Size([128, 784, 256])\n",
      "torch.Size([128, 784]) torch.Size([128, 784, 256])\n",
      "torch.Size([128, 784]) torch.Size([128, 784, 256])\n",
      "torch.Size([128, 784]) torch.Size([128, 784, 256])\n",
      "torch.Size([128, 784]) torch.Size([128, 784, 256])\n",
      "torch.Size([128, 784]) torch.Size([128, 784, 256])\n",
      "torch.Size([128, 784]) torch.Size([128, 784, 256])\n",
      "torch.Size([128, 784]) torch.Size([128, 784, 256])\n",
      "torch.Size([128, 784]) torch.Size([128, 784, 256])\n",
      "torch.Size([128, 784]) torch.Size([128, 784, 256])\n",
      "torch.Size([128, 784]) torch.Size([128, 784, 256])\n",
      "torch.Size([128, 784]) torch.Size([128, 784, 256])\n",
      "torch.Size([128, 784]) torch.Size([128, 784, 256])\n",
      "torch.Size([128, 784]) torch.Size([128, 784, 256])\n",
      "torch.Size([128, 784]) torch.Size([128, 784, 256])\n",
      "torch.Size([128, 784]) torch.Size([128, 784, 256])\n",
      "torch.Size([128, 784]) torch.Size([128, 784, 256])\n",
      "torch.Size([128, 784]) torch.Size([128, 784, 256])\n",
      "torch.Size([128, 784]) torch.Size([128, 784, 256])\n",
      "torch.Size([128, 784]) torch.Size([128, 784, 256])\n",
      "torch.Size([128, 784]) torch.Size([128, 784, 256])\n",
      "torch.Size([128, 784]) torch.Size([128, 784, 256])\n",
      "torch.Size([128, 784]) torch.Size([128, 784, 256])\n",
      "torch.Size([128, 784]) torch.Size([128, 784, 256])\n",
      "torch.Size([128, 784]) torch.Size([128, 784, 256])\n",
      "torch.Size([128, 784]) torch.Size([128, 784, 256])\n",
      "torch.Size([128, 784]) torch.Size([128, 784, 256])\n",
      "torch.Size([128, 784]) torch.Size([128, 784, 256])\n",
      "torch.Size([128, 784]) torch.Size([128, 784, 256])\n",
      "torch.Size([128, 784]) torch.Size([128, 784, 256])\n",
      "torch.Size([128, 784]) torch.Size([128, 784, 256])\n",
      "torch.Size([128, 784]) torch.Size([128, 784, 256])\n",
      "torch.Size([128, 784]) torch.Size([128, 784, 256])\n",
      "torch.Size([128, 784]) torch.Size([128, 784, 256])\n",
      "torch.Size([128, 784]) torch.Size([128, 784, 256])\n",
      "torch.Size([128, 784]) torch.Size([128, 784, 256])\n",
      "torch.Size([128, 784]) torch.Size([128, 784, 256])\n",
      "torch.Size([128, 784]) torch.Size([128, 784, 256])\n",
      "torch.Size([128, 784]) torch.Size([128, 784, 256])\n",
      "torch.Size([128, 784]) torch.Size([128, 784, 256])\n",
      "torch.Size([128, 784]) torch.Size([128, 784, 256])\n",
      "torch.Size([128, 784]) torch.Size([128, 784, 256])\n",
      "torch.Size([128, 784]) torch.Size([128, 784, 256])\n",
      "torch.Size([128, 784]) torch.Size([128, 784, 256])\n",
      "torch.Size([128, 784]) torch.Size([128, 784, 256])\n",
      "torch.Size([128, 784]) torch.Size([128, 784, 256])\n",
      "torch.Size([128, 784]) torch.Size([128, 784, 256])\n",
      "torch.Size([128, 784]) torch.Size([128, 784, 256])\n",
      "torch.Size([128, 784]) torch.Size([128, 784, 256])\n",
      "torch.Size([128, 784]) torch.Size([128, 784, 256])\n",
      "torch.Size([128, 784]) torch.Size([128, 784, 256])\n",
      "torch.Size([128, 784]) torch.Size([128, 784, 256])\n",
      "torch.Size([128, 784]) torch.Size([128, 784, 256])\n",
      "torch.Size([128, 784]) torch.Size([128, 784, 256])\n",
      "torch.Size([128, 784]) torch.Size([128, 784, 256])\n",
      "torch.Size([128, 784]) torch.Size([128, 784, 256])\n",
      "torch.Size([128, 784]) torch.Size([128, 784, 256])\n",
      "torch.Size([128, 784]) torch.Size([128, 784, 256])\n",
      "torch.Size([128, 784]) torch.Size([128, 784, 256])\n",
      "torch.Size([128, 784]) torch.Size([128, 784, 256])\n",
      "torch.Size([128, 784]) torch.Size([128, 784, 256])\n",
      "torch.Size([128, 784]) torch.Size([128, 784, 256])\n",
      "torch.Size([128, 784]) torch.Size([128, 784, 256])\n",
      "torch.Size([128, 784]) torch.Size([128, 784, 256])\n",
      "torch.Size([128, 784]) torch.Size([128, 784, 256])\n",
      "torch.Size([128, 784]) torch.Size([128, 784, 256])\n",
      "torch.Size([128, 784]) torch.Size([128, 784, 256])\n",
      "torch.Size([128, 784]) torch.Size([128, 784, 256])\n",
      "torch.Size([128, 784]) torch.Size([128, 784, 256])\n",
      "torch.Size([128, 784]) torch.Size([128, 784, 256])\n",
      "torch.Size([128, 784]) torch.Size([128, 784, 256])\n",
      "torch.Size([128, 784]) torch.Size([128, 784, 256])\n",
      "torch.Size([128, 784]) torch.Size([128, 784, 256])\n",
      "torch.Size([128, 784]) torch.Size([128, 784, 256])\n",
      "torch.Size([128, 784]) torch.Size([128, 784, 256])\n",
      "torch.Size([128, 784]) torch.Size([128, 784, 256])\n",
      "torch.Size([128, 784]) torch.Size([128, 784, 256])\n",
      "torch.Size([128, 784]) torch.Size([128, 784, 256])\n",
      "torch.Size([128, 784]) torch.Size([128, 784, 256])\n",
      "torch.Size([128, 784]) torch.Size([128, 784, 256])\n",
      "torch.Size([128, 784]) torch.Size([128, 784, 256])\n",
      "torch.Size([128, 784]) torch.Size([128, 784, 256])\n",
      "torch.Size([128, 784]) torch.Size([128, 784, 256])\n",
      "torch.Size([128, 784]) torch.Size([128, 784, 256])\n",
      "torch.Size([128, 784]) torch.Size([128, 784, 256])\n",
      "torch.Size([128, 784]) torch.Size([128, 784, 256])\n",
      "torch.Size([128, 784]) torch.Size([128, 784, 256])\n",
      "torch.Size([128, 784]) torch.Size([128, 784, 256])\n",
      "torch.Size([128, 784]) torch.Size([128, 784, 256])\n",
      "torch.Size([128, 784]) torch.Size([128, 784, 256])\n",
      "torch.Size([128, 784]) torch.Size([128, 784, 256])\n"
     ]
    },
    {
     "name": "stderr",
     "output_type": "stream",
     "text": [
      "100%|█████████████████████████████████████████████| 1/1 [00:27<00:00, 27.43s/it]"
     ]
    },
    {
     "name": "stdout",
     "output_type": "stream",
     "text": [
      "torch.Size([128, 784]) torch.Size([128, 784, 256])\n",
      "torch.Size([128, 784]) torch.Size([128, 784, 256])\n",
      "torch.Size([128, 784]) torch.Size([128, 784, 256])\n",
      "torch.Size([128, 784]) torch.Size([128, 784, 256])\n"
     ]
    },
    {
     "name": "stderr",
     "output_type": "stream",
     "text": [
      "\n"
     ]
    }
   ],
   "source": [
    "epoch  = 0\n",
    "epochs = 1 + epoch\n",
    "tot_loss_epoch = np.zeros(epochs)\n",
    "rec_loss_epoch = np.zeros(epochs)\n",
    "KL_loss_epoch  = np.zeros(epochs)\n",
    "for epoch in tqdm(range(epoch, epochs)):\n",
    "    results = train(vae,train_loader,epoch)\n",
    "    tot_loss_epoch[epoch] = results['total_loss'].cpu()\n",
    "    rec_loss_epoch[epoch] = results['rec_losses'].cpu()\n",
    "    KL_loss_epoch[epoch]  = results['KL_loss'].cpu()"
   ]
  },
  {
   "cell_type": "code",
   "execution_count": 24,
   "metadata": {},
   "outputs": [
    {
     "data": {
      "image/png": "[encoded data removed]",
      "text/plain": [
       "<Figure size 1440x252 with 3 Axes>"
      ]
     },
     "metadata": {
      "needs_background": "light"
     },
     "output_type": "display_data"
    }
   ],
   "source": [
    "epoch_array = np.linspace(1,epochs,epochs)\n",
    "fig, axs = plt.subplots(1,3,figsize=(20, 3.5))\n",
    "axs[0].plot(epoch_array, tot_loss_epoch)\n",
    "axs[0].set_title('Total loss')\n",
    "axs[1].plot(epoch_array, rec_loss_epoch)\n",
    "axs[1].set_title('Rec loss')\n",
    "axs[2].plot(epoch_array, KL_loss_epoch)\n",
    "axs[2].set_title('KL loss')\n",
    "plt.show()"
   ]
  },
  {
   "cell_type": "code",
   "execution_count": 25,
   "metadata": {},
   "outputs": [
    {
     "data": {
      "image/png": "[encoded data removed]",
      "text/plain": [
       "<Figure size 1080x108 with 40 Axes>"
      ]
     },
     "metadata": {},
     "output_type": "display_data"
    }
   ],
   "source": [
    "x_rec = results['x_rec'].max(dim=1).indices.squeeze()\n",
    "data  = results['data'][:,0:784]\n",
    "\n",
    "ncols = min(len(x_rec[0]), 20)\n",
    "fig, ax = plt.subplots(nrows=2, ncols=ncols, figsize=(15, 1.5))\n",
    "for i, aux in enumerate(zip(data, x_rec)):\n",
    "    if i>= ncols:\n",
    "        break\n",
    "    for j, im in enumerate(aux):\n",
    "        ax[j, i].imshow(im.detach().cpu().numpy().reshape(28, 28), cmap='gray')\n",
    "        ax[j, i].set_xticks([])\n",
    "        ax[j, i].set_yticks([])\n",
    "ax[1, 0].set_ylabel('Rec', fontsize=24)\n",
    "fig.tight_layout(pad=0)"
   ]
  },
  {
   "cell_type": "code",
   "execution_count": 11,
   "metadata": {},
   "outputs": [
    {
     "data": {
      "text/plain": [
       "torch.Size([128, 256, 1, 28, 28])"
      ]
     },
     "execution_count": 11,
     "metadata": {},
     "output_type": "execute_result"
    }
   ],
   "source": [
    "x_rec = results['x_rec']\n",
    "x_rec.size()"
   ]
  },
  {
   "cell_type": "code",
   "execution_count": 12,
   "metadata": {},
   "outputs": [
    {
     "data": {
      "text/plain": [
       "tensor(0., device='cuda:0')"
      ]
     },
     "execution_count": 12,
     "metadata": {},
     "output_type": "execute_result"
    }
   ],
   "source": [
    "data  = results['data'][:,0:784]\n",
    "data.min()"
   ]
  },
  {
   "cell_type": "code",
   "execution_count": 10,
   "metadata": {},
   "outputs": [],
   "source": [
    "## Generation of images\n",
    "def generate(model,train_loader,generate_mode):\n",
    "#     model.eval()\n",
    "    for k, data in (enumerate(train_loader)):\n",
    "        if k>=1:\n",
    "            break\n",
    "        results = model(data[0].to(device),generate_mode)\n",
    "        \n",
    "#         color_level = 256\n",
    "#         x = (data[0] * (color_level - 1)).floor().long()\n",
    "#         results['data'] = x\n",
    "    return results"
   ]
  },
  {
   "cell_type": "code",
   "execution_count": 11,
   "metadata": {},
   "outputs": [],
   "source": [
    "results_generate = generate(vae,train_loader,generate_mode= True)"
   ]
  },
  {
   "cell_type": "code",
   "execution_count": 23,
   "metadata": {},
   "outputs": [
    {
     "data": {
      "text/plain": [
       "tensor(1.1890, device='cuda:0')"
      ]
     },
     "execution_count": 23,
     "metadata": {},
     "output_type": "execute_result"
    }
   ],
   "source": [
    "x_rec = results_generate['x_rec'].squeeze()\n",
    "x_rec.mean()"
   ]
  },
  {
   "cell_type": "code",
   "execution_count": 16,
   "metadata": {},
   "outputs": [
    {
     "data": {
      "text/plain": [
       "tensor(0.1353, device='cuda:0')"
      ]
     },
     "execution_count": 16,
     "metadata": {},
     "output_type": "execute_result"
    }
   ],
   "source": [
    "data  = (results_generate['data'])[:,0:784]\n",
    "data.mean()"
   ]
  },
  {
   "cell_type": "code",
   "execution_count": 17,
   "metadata": {},
   "outputs": [
    {
     "data": {
      "text/plain": [
       "tensor(1., device='cuda:0')"
      ]
     },
     "execution_count": 17,
     "metadata": {},
     "output_type": "execute_result"
    }
   ],
   "source": [
    "data.max()"
   ]
  },
  {
   "cell_type": "code",
   "execution_count": 18,
   "metadata": {},
   "outputs": [
    {
     "ename": "NameError",
     "evalue": "name 'vae_' is not defined",
     "output_type": "error",
     "traceback": [
      "\u001b[0;31m---------------------------------------------------------------------------\u001b[0m",
      "\u001b[0;31mNameError\u001b[0m                                 Traceback (most recent call last)",
      "\u001b[0;32m/tmp/ipykernel_121697/4006273144.py\u001b[0m in \u001b[0;36m<module>\u001b[0;34m\u001b[0m\n\u001b[0;32m----> 1\u001b[0;31m \u001b[0mz\u001b[0m \u001b[0;34m=\u001b[0m \u001b[0mvae_\u001b[0m\u001b[0;34m.\u001b[0m\u001b[0mencode\u001b[0m\u001b[0;34m(\u001b[0m\u001b[0;34m)\u001b[0m\u001b[0;34m\u001b[0m\u001b[0m\n\u001b[0m\u001b[1;32m      2\u001b[0m \u001b[0mvae_\u001b[0m\u001b[0;34m.\u001b[0m\u001b[0mdecoder\u001b[0m\u001b[0;34m.\u001b[0m\u001b[0mpixelcnn\u001b[0m\u001b[0;34m(\u001b[0m\u001b[0;34m)\u001b[0m\u001b[0;34m\u001b[0m\u001b[0m\n",
      "\u001b[0;31mNameError\u001b[0m: name 'vae_' is not defined"
     ]
    }
   ],
   "source": [
    "z = vae_.encode()\n",
    "vae_.decoder.pixelcnn()"
   ]
  },
  {
   "cell_type": "code",
   "execution_count": 12,
   "metadata": {},
   "outputs": [
    {
     "name": "stdout",
     "output_type": "stream",
     "text": [
      "torch.Size([128, 1, 28, 28]) torch.Size([128, 794])\n"
     ]
    },
    {
     "data": {
      "image/png": "[encoded data removed]",
      "text/plain": [
       "<Figure size 1080x108 with 40 Axes>"
      ]
     },
     "metadata": {},
     "output_type": "display_data"
    }
   ],
   "source": [
    "# x_rec = results_generate['x_rec']\n",
    "# x_rec = results_generate['x_rec'].squeeze()\n",
    "x_rec = results['x_rec'].max(dim=1).indices.squeeze()\n",
    "\n",
    "# data  = torch.zeros_like(results_generate['data'])[:,0:784]\n",
    "# data  = torch.zeros_like(results_generate['data'])[:,0:784]\n",
    "data  = (results_generate['data'])[:,0:784]\n",
    "\n",
    "print(results_generate['x_rec'].shape, results_generate['data'].shape)\n",
    "\n",
    "ncols = min(len(x_rec[0]), 20)\n",
    "fig, ax = plt.subplots(nrows=2, ncols=ncols, figsize=(15, 1.5))\n",
    "for i, aux in enumerate(zip(data, x_rec)):\n",
    "    if i>= ncols:\n",
    "        break\n",
    "    for j, im in enumerate(aux):\n",
    "        ax[j, i].imshow(im.detach().cpu().numpy().reshape(28, 28), cmap='gray')\n",
    "        ax[j, i].set_xticks([])\n",
    "        ax[j, i].set_yticks([])\n",
    "ax[1, 0].set_ylabel('Rec', fontsize=24)\n",
    "fig.tight_layout(pad=0)"
   ]
  },
  {
   "cell_type": "code",
   "execution_count": 27,
   "metadata": {},
   "outputs": [
    {
     "data": {
      "text/plain": [
       "tensor(1., device='cuda:0')"
      ]
     },
     "execution_count": 27,
     "metadata": {},
     "output_type": "execute_result"
    }
   ],
   "source": [
    "results_generate['x_rec'].min()"
   ]
  },
  {
   "cell_type": "code",
   "execution_count": null,
   "metadata": {},
   "outputs": [],
   "source": []
  },
  {
   "cell_type": "code",
   "execution_count": null,
   "metadata": {},
   "outputs": [],
   "source": [
    "plt.imshow(data[1,:].reshape(28, 28).cpu())"
   ]
  },
  {
   "cell_type": "code",
   "execution_count": null,
   "metadata": {},
   "outputs": [],
   "source": [
    "import importlib\n",
    "import model\n",
    "importlib.reload(model)\n",
    "from model import PixelCNN"
   ]
  },
  {
   "cell_type": "code",
   "execution_count": null,
   "metadata": {},
   "outputs": [],
   "source": [
    "enc_mnist = networks_mnist.EncMNIST(lat_dim).to(device)\n",
    "dec_mnist = networks_mnist.pixelcnn_decoder(PixelCNN(lat_dim+10, 1)).to(device)\n",
    "vae_ = Vanilla_VAE(enc_mnist,dec_mnist, batch_size=batch_size).to(device)\n",
    "vae_.load_state_dict(vae_.state_dict())"
   ]
  },
  {
   "cell_type": "code",
   "execution_count": null,
   "metadata": {},
   "outputs": [],
   "source": [
    "x = \"hello\"\n",
    "assert x == \"goodbye\"\n",
    "print('hello')"
   ]
  },
  {
   "cell_type": "code",
   "execution_count": null,
   "metadata": {},
   "outputs": [],
   "source": [
    "total_loss,rec_loss,kl_loss = 0,0 ,0\n"
   ]
  },
  {
   "cell_type": "code",
   "execution_count": 45,
   "metadata": {},
   "outputs": [
    {
     "data": {
      "text/plain": [
       "torch.Size([10])"
      ]
     },
     "execution_count": 45,
     "metadata": {},
     "output_type": "execute_result"
    }
   ],
   "source": [
    "label = F.one_hot(torch.tensor(5),num_classes=10)\n",
    "label.size()"
   ]
  },
  {
   "cell_type": "code",
   "execution_count": 46,
   "metadata": {},
   "outputs": [],
   "source": [
    "label = label.repeat(120, 1)"
   ]
  },
  {
   "cell_type": "code",
   "execution_count": 47,
   "metadata": {},
   "outputs": [
    {
     "data": {
      "text/plain": [
       "torch.Size([120, 10])"
      ]
     },
     "execution_count": 47,
     "metadata": {},
     "output_type": "execute_result"
    }
   ],
   "source": [
    "label.size()"
   ]
  },
  {
   "cell_type": "code",
   "execution_count": null,
   "metadata": {},
   "outputs": [],
   "source": []
  }
 ],
 "metadata": {
  "kernelspec": {
   "display_name": "achint-env",
   "language": "python",
   "name": "achint-env"
  },
  "language_info": {
   "codemirror_mode": {
    "name": "ipython",
    "version": 3
   },
   "file_extension": ".py",
   "mimetype": "text/x-python",
   "name": "python",
   "nbconvert_exporter": "python",
   "pygments_lexer": "ipython3",
   "version": "3.7.0"
  }
 },
 "nbformat": 4,
 "nbformat_minor": 2
}
