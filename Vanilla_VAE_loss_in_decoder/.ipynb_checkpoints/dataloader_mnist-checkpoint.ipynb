{
 "cells": [
  {
   "cell_type": "code",
   "execution_count": null,
   "metadata": {},
   "outputs": [],
   "source": [
    "import torch\n",
    "import scipy.io as sio\n",
    "import random\n",
    "import numpy as np\n",
    "import torch.nn.functional as F\n",
    "\n",
    "class MNIST(torch.utils.data.Dataset):\n",
    "    def __init__(self, mnist_pt_path):\n",
    "        self.mnist_pt_path = mnist_pt_path            \n",
    "        # Load the pt for MNIST \n",
    "        self.mnist_data, self.mnist_targets = torch.load(self.mnist_pt_path)\n",
    "        \n",
    "    def __len__(self):\n",
    "        return len(self.mnist_data)\n",
    "        \n",
    "    def __getitem__(self, index: int):\n",
    "        \"\"\"\n",
    "        Args:\n",
    "            index (int): Index\n",
    "        \"\"\"\n",
    "        mnist_img, mnist_target = self.mnist_data[index], int(self.mnist_targets[index])\n",
    "        mnist_target = F.one_hot(torch.tensor(mnist_target),num_classes=10)\n",
    "        mnist_img = torch.cat((mnist_img.view(-1)/255,mnist_target),0)\n",
    "        return mnist_img,mnist_target"
   ]
  }
 ],
 "metadata": {
  "kernelspec": {
   "display_name": "achint-env",
   "language": "python",
   "name": "achint-env"
  },
  "language_info": {
   "codemirror_mode": {
    "name": "ipython",
    "version": 3
   },
   "file_extension": ".py",
   "mimetype": "text/x-python",
   "name": "python",
   "nbconvert_exporter": "python",
   "pygments_lexer": "ipython3",
   "version": "3.7.0"
  }
 },
 "nbformat": 4,
 "nbformat_minor": 2
}
